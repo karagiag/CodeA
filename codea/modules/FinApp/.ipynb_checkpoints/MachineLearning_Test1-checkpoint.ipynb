{
 "cells": [
  {
   "cell_type": "code",
   "execution_count": 377,
   "metadata": {
    "collapsed": false
   },
   "outputs": [
    {
     "name": "stdout",
     "output_type": "stream",
     "text": [
      "Using matplotlib backend: TkAgg\n"
     ]
    }
   ],
   "source": [
    "from stockDatabase import StockDatabase\n",
    "from stockplot.models import Stock, StockData\n",
    "import stockDepot\n",
    "import matplotlib.pyplot as plt\n",
    "import datetime\n",
    "import pandas as pd\n",
    "import numpy as np\n",
    "\n",
    "%matplotlib"
   ]
  },
  {
   "cell_type": "code",
   "execution_count": 395,
   "metadata": {
    "collapsed": false
   },
   "outputs": [],
   "source": [
    "def getStockDataframe(stocklist, fromDate, toDate):\n",
    "    dateslist = []\n",
    "    datalist = []\n",
    "    dataMACDlist = []\n",
    "    emaMACD = []\n",
    "    dataPPOlist = []\n",
    "    emaPPO = []\n",
    "    lowBollist = []\n",
    "    averageBollist = []\n",
    "    highBollist = []\n",
    "    ema15 = []\n",
    "    ema30 = []\n",
    "    ema50 = []\n",
    "    ema100 = []\n",
    "    ema200 = []\n",
    "\n",
    "    for i in range(0, len(stocklist)):\n",
    "        # get a stock\n",
    "        teststock = StockDatabase(stocklist[i])\n",
    "        \n",
    "        # get history for stock fromDate to Date\n",
    "        step = 1\n",
    "        dates, data = teststock.getStockHistory('close', fromDate, toDate, step)\n",
    "\n",
    "        # get data for Moving Average Convergence Divergence\n",
    "        dataMACD = teststock.MACD(dates, data)\n",
    "\n",
    "        # get 9 day Exponential Moving Average for MACD\n",
    "        emaMACD += teststock.ExpAverage(dates, dataMACD, 9)\n",
    "\n",
    "        # get data for Percentage Price Oscillator\n",
    "        dataPPO = teststock.PPO(dates, data)\n",
    "\n",
    "        # get 9 day EMA for PPO\n",
    "        emaPPO += teststock.ExpAverage(dates, dataPPO, 9)\n",
    "\n",
    "        # get bollinger band\n",
    "        days = 20 # bollinger band based on 20-day Simple Moving Average\n",
    "        factor = 2 # factor for standard deviation, lowBol = averageBol - 2 * std\n",
    "        lowBol, averageBol, highBol = teststock.Bollinger(dates, data, days, factor)\n",
    "\n",
    "        # get exponential moving averages\n",
    "        ema15 += teststock.ExpAverage(dates, data, 15)\n",
    "        ema30 += teststock.ExpAverage(dates, data, 30)\n",
    "        ema50 += teststock.ExpAverage(dates, data, 50)\n",
    "        ema100 += teststock.ExpAverage(dates, data, 100)\n",
    "        ema200+= teststock.ExpAverage(dates, data, 200)\n",
    "\n",
    "        dateslist += dates\n",
    "        datalist += data\n",
    "        dataMACDlist += dataMACD\n",
    "        dataPPOlist += dataPPO\n",
    "        lowBollist += lowBol\n",
    "        averageBollist += averageBol\n",
    "        highBollist += highBol\n",
    "    \n",
    "    # create pandas dataframe for all data\n",
    "    dfdata = {'Date': dateslist, 'Price': datalist, 'EMA 15': ema15, 'EMA 30': ema30, 'EMA 50': ema50, 'EMA 100': ema100, 'EMA 200': ema200, 'MACD': dataMACDlist, 'MACD EMA': emaMACD, 'PPO': dataPPOlist, 'PPO EMA': emaPPO, 'Bollinger low': lowBollist, 'Bollinger': averageBollist, 'Bollinger high': highBollist}\n",
    "    df = pd.DataFrame(dfdata, columns=['Date', 'Price', 'EMA 15', 'EMA 30', 'EMA 50', 'EMA 100', 'EMA 200', 'MACD', 'MACD EMA', 'PPO', 'PPO EMA', 'Bollinger low', 'Bollinger', 'Bollinger high'])\n",
    "    return df"
   ]
  },
  {
   "cell_type": "markdown",
   "metadata": {},
   "source": [
    "### Features\n",
    "\n",
    "- Which features can be used to predict stock price change over the next n days? I.e. does the price increase or decrease?\n",
    "\n",
    "- mostly features independent of the stock price (almost scaled)\n",
    "- PPO\n",
    "- net change\n",
    "- percent change\n",
    "- 10, 20, 30 day volatility\n",
    "- EMA: positive cross, negative cross, higher -> find times when a shorter EMA crosses a longer one\n",
    "- Find when price crosses EMA or is higher than EMA\n",
    "- Find when EMA of MACD crosses MACD or is higher\n",
    "- same for PPO\n",
    "- find when price is higher than upper bollinger band, average one or lower than the lower band\n",
    "\n",
    "\n",
    "- not yet implemented: (http://cs229.stanford.edu/proj2013/DaiZhang-MachineLearningInStockPriceTrendForecasting.pdf)\n",
    "    - PE ratio\n",
    "    - PX volume\n",
    "    - PX ebitda\n",
    "    - current enterprise value\n",
    "    - quick ratio\n",
    "    - alpha overridable\n",
    "    - alpha for beta pm\n",
    "    - beta raw overridable\n",
    "    - risk premium\n",
    "    - IS EPS\n",
    "    - corresponding S&P 500 index\n",
    "\n",
    "- not yet implemented: (https://arxiv.org/pdf/1603.00751.pdf)\n",
    "    - Book value - the net asset value of a company, calculated by total assets minus intangible assets (patents, goodwill) and liabilities.\n",
    "    - Market capitalization - the market value of a company's issued share capital; it is equal to the share price times the number of shares outstanding.\n",
    "    - Change of stock Net price over the one month period\n",
    "    - Percentage change of Net price over the one month period\n",
    "    - Dividend yield - indicates how much a company pays out in dividends each year relative to its share price.\n",
    "    - Earnings per share - a portion of a company's profit divided by the number of issued shares. Earnings per share serves as an indicator of a company's profitability.\n",
    "    - Earnings per share growth – the growth of earnings per share over the trailing one-year period.\n",
    "    - Sales revenue turnover -\n",
    "    - Net revenue - the proceeds from the sale of an asset, minus commissions, taxes, or other expenses related to the sale.\n",
    "    - Net revenue growth – the growth of Net revenue over the trailing one-year period.\n",
    "    - Sales growth – sales growth over the trailing one-year period.\n",
    "    - Price to earnings ratio – measures company’s current share price relative to its per-share earnings.\n",
    "    - Price to earnings ratio, five years average – averaged price to earnings ratio over the period of five years.\n",
    "    - Price to book ratio - compares a company's current market price to its book value.\n",
    "    - Price to sales ratio – ratio calculated by dividing the company's market cap by the revenue in the most recent year.\n",
    "    - Dividend per share - is the total dividends paid out over an entire year divided by the number of\n",
    "    - ordinary shares issued.\n",
    "    - Current ratio - compares a firm's current assets to its current liabilities.\n",
    "    - Quick ratio - compares the total amount of cash, marketable securities and accounts receivable to the amount of current liabilities.\n",
    "    - Total debt to equity - ratio used to measure a company's financial leverage, calculated by dividing a company's total liabilities by its stockholders' equity.\n",
    "    - Analyst ratio – ratio given by human analyst.\n",
    "    - Revenue growth adjusted by 5 year compound annual growth ratio\n",
    "    - Profit margin – a profitability ratio calculated as net income divided by revenue, or net profits divided by sales\n",
    "    - Operating margin - ratio used to measure a company's pricing strategy and operating efficiency. It is a measurement of what proportion of a company's revenue is left over after paying for variable costs of production such as wages, raw materials, etc.\n",
    "    - Asset turnover - the ratio of the value of a company’s sales or revenues generated relative to the value of its assets\n",
    "\n",
    "Source: https://www.cs.princeton.edu/sites/default/files/uploads/saahil_madge.pdf\n",
    "- when deciding to buy or not, use past of stock to determine accuracy of machine learning algorithm for that particular stock\n",
    "\n",
    "Source, master thesis: http://www.diva-portal.org/smash/get/diva2:354463/FULLTEXT01.pdf\n",
    "\n",
    "Source, MIT based on earnings reports: http://ocw.mit.edu/courses/sloan-school-of-management/15-097-prediction-machine-learning-and-statistics-spring-2012/projects/MIT15_097S12_proj2.pdf\n",
    "\n",
    "Source, Lehman: https://www.cis.upenn.edu/~mkearns/papers/rlexec.pdf\n",
    "\n",
    "Source, Github App: https://github.com/DMTSource/daily-stock-forecast"
   ]
  },
  {
   "cell_type": "code",
   "execution_count": 397,
   "metadata": {
    "collapsed": true
   },
   "outputs": [],
   "source": [
    "def crossing(feature1, feature2, df):\n",
    "    # create feature for feature ema crossing feature\n",
    "    poscross = [0] # positive cross\n",
    "    negcross = [0] # negative cross\n",
    "    higher = [0] # ema higher than feature\n",
    "    \n",
    "    feature1 = df[feature1].values\n",
    "    feature2 = df[feature2].values\n",
    "\n",
    "    for i in range (1, len(feature1)):\n",
    "        # check if ema is crossing feature\n",
    "        if feature1[i-1] < feature2[i-1] and feature1[i] > feature2[i]:\n",
    "            poscross.append(1)\n",
    "            negcross.append(0)\n",
    "        elif feature1[i-1] > feature2[i-1] and feature1[i] < feature2[i]:\n",
    "            poscross.append(0)\n",
    "            negcross.append(1)\n",
    "        else:\n",
    "            poscross.append(0)\n",
    "            negcross.append(0)\n",
    "            \n",
    "        # check if ema is higher or lower than feature\n",
    "        if feature1[i] > feature2[i]:\n",
    "            higher.append(1)\n",
    "        else:\n",
    "            higher.append(0)\n",
    "    return poscross, negcross, higher"
   ]
  },
  {
   "cell_type": "code",
   "execution_count": 398,
   "metadata": {
    "collapsed": false
   },
   "outputs": [],
   "source": [
    "from math import sqrt\n",
    "\n",
    "def createFeatures(df):\n",
    "    # PPO as feature\n",
    "    df['featPPO'] = stockdf['PPO']\n",
    "\n",
    "    # price change features\n",
    "    netchange = [0]\n",
    "    price = df['Price'].values\n",
    "    netchange += [price[i]-price[i-1] for i in range(1, len(price))]\n",
    "    percentchange = [netchange[i]/price[i] * 100 for i in range(0, len(price))]\n",
    "\n",
    "    # volatility based on price change\n",
    "    sqrt254 = sqrt(254) # square root of yearly trading days\n",
    "    volatility10 = [0] * 10\n",
    "    volatility20 = [0] * 20\n",
    "    volatility30 = [0] * 30\n",
    "    volatility10 += [sqrt254 * np.std(percentchange[i-10:i]) for i in range(10, len(price))]\n",
    "    volatility20 += [sqrt254 * np.std(percentchange[i-20:i]) for i in range(20, len(price))]\n",
    "    volatility30 += [sqrt254 * np.std(percentchange[i-30:i]) for i in range(30, len(price))]\n",
    "\n",
    "    # save in dataframe\n",
    "    df['Net Change'] = netchange\n",
    "    df['Perc Change'] = percentchange\n",
    "    df['10 day Volatility'] = volatility10\n",
    "    df['20 day Volatility'] = volatility20\n",
    "    df['30 day Volatility'] = volatility30\n",
    "    \n",
    "    # check if shorter EMA crosses a longer one\n",
    "\n",
    "    poscross, negcross, higher = crossing('EMA 15', 'EMA 30', df)\n",
    "    df['EMA 15 / 30 poscross'] = poscross\n",
    "    df['EMA 15 / 30 negcross'] = negcross\n",
    "    df['EMA 15 / 30 higher'] = higher\n",
    "\n",
    "    poscross, negcross, higher = crossing('EMA 15', 'EMA 50', df)\n",
    "    df['EMA 15 / 50 poscross'] = poscross\n",
    "    df['EMA 15 / 50 negcross'] = negcross\n",
    "    df['EMA 15 / 50 higher'] = higher\n",
    "\n",
    "    poscross, negcross, higher = crossing('EMA 15', 'EMA 100', df)\n",
    "    df['EMA 15 / 100 poscross'] = poscross\n",
    "    df['EMA 15 / 100 negcross'] = negcross\n",
    "    df['EMA 15 / 100 higher'] = higher\n",
    "\n",
    "    poscross, negcross, higher = crossing('EMA 15', 'EMA 200', df)\n",
    "    df['EMA 15 / 200 poscross'] = poscross\n",
    "    df['EMA 15 / 200 negcross'] = negcross\n",
    "    df['EMA 15 / 200 higher'] = higher\n",
    "\n",
    "    poscross, negcross, higher = crossing('EMA 30', 'EMA 50', df)\n",
    "    df['EMA 30 / 50 poscross'] = poscross\n",
    "    df['EMA 30 / 50 negcross'] = negcross\n",
    "    df['EMA 30 / 50 higher'] = higher\n",
    "\n",
    "    poscross, negcross, higher = crossing('EMA 30', 'EMA 100', df)\n",
    "    df['EMA 30 / 100 poscross'] = poscross\n",
    "    df['EMA 30 / 100 negcross'] = negcross\n",
    "    df['EMA 30 / 100 higher'] = higher\n",
    "\n",
    "    poscross, negcross, higher = crossing('EMA 30', 'EMA 200', df)\n",
    "    df['EMA 30 / 200 poscross'] = poscross\n",
    "    df['EMA 30 / 200 negcross'] = negcross\n",
    "    df['EMA 30 / 200 higher'] = higher\n",
    "\n",
    "    poscross, negcross, higher = crossing('EMA 50', 'EMA 100', df)\n",
    "    df['EMA 50 / 100 poscross'] = poscross\n",
    "    df['EMA 50 / 100 negcross'] = negcross\n",
    "    df['EMA 50 / 100 higher'] = higher\n",
    "\n",
    "    poscross, negcross, higher = crossing('EMA 50', 'EMA 200', df)\n",
    "    df['EMA 50 / 200 poscross'] = poscross\n",
    "    df['EMA 50 / 200 negcross'] = negcross\n",
    "    df['EMA 50 / 200 higher'] = higher\n",
    "    \n",
    "    # check if price crosses an EMA\n",
    "\n",
    "    poscross, negcross, higher = crossing('Price', 'EMA 15', df)\n",
    "    df['Price / EMA 15 poscross'] = poscross\n",
    "    df['Price / EMA 15 negcross'] = negcross\n",
    "    df['Price / EMA 15 higher'] = higher\n",
    "\n",
    "    poscross, negcross, higher = crossing('Price', 'EMA 30', df)\n",
    "    df['Price / EMA 30 poscross'] = poscross\n",
    "    df['Price / EMA 30 negcross'] = negcross\n",
    "    df['Price / EMA 30 higher'] = higher\n",
    "\n",
    "    poscross, negcross, higher = crossing('Price', 'EMA 50', df)\n",
    "    df['Price / EMA 50 poscross'] = poscross\n",
    "    df['Price / EMA 50 negcross'] = negcross\n",
    "    df['Price / EMA 50 higher'] = higher\n",
    "\n",
    "    poscross, negcross, higher = crossing('Price', 'EMA 100', df)\n",
    "    df['Price / EMA 100 poscross'] = poscross\n",
    "    df['Price / EMA 100 negcross'] = negcross\n",
    "    df['Price / EMA 100 higher'] = higher\n",
    "\n",
    "    poscross, negcross, higher = crossing('Price', 'EMA 200', df)\n",
    "    df['Price / EMA 200 poscross'] = poscross\n",
    "    df['Price / EMA 200 negcross'] = negcross\n",
    "    df['Price / EMA 200 higher'] = higher\n",
    "    \n",
    "    # check if EMA of MACD crosses MACD\n",
    "    poscross, negcross, higher = crossing('MACD EMA', 'MACD', df)\n",
    "    df['MACD poscross'] = poscross\n",
    "    df['MACD negcross'] = negcross\n",
    "    df['MACD higher'] = higher\n",
    "    \n",
    "    # check if EMA of PPO crosses PPO\n",
    "    poscross, negcross, higher = crossing('PPO EMA', 'PPO', df)\n",
    "    df['PPO poscross'] = poscross\n",
    "    df['PPO negcross'] = negcross\n",
    "    df['PPO higher'] = higher\n",
    "    \n",
    "    # create features for bollinger\n",
    "    higheraverage = [] # price higher than average bollinger band\n",
    "    higherhigh = [] # price higher than upper bollinger band\n",
    "    lowerlow = [] # price lower than lower bollinger band\n",
    "\n",
    "    price = df['Price'].values\n",
    "    bollinger = df['Bollinger'].values\n",
    "    bollingerhigh = df['Bollinger high'].values\n",
    "    bollingerlow = df['Bollinger low'].values\n",
    "    for i in range (0, len(price)):\n",
    "            # check if price is higher than Bollinger\n",
    "            if price[i] > bollinger[i]:\n",
    "                higheraverage.append(1)\n",
    "            else:\n",
    "                higheraverage.append(0)\n",
    "\n",
    "            if price[i] > bollingerhigh[i]:\n",
    "                higherhigh.append(1)\n",
    "            else:\n",
    "                higherhigh.append(0)\n",
    "\n",
    "            if price[i] < bollingerlow[i]:\n",
    "                lowerlow.append(1)\n",
    "            else:\n",
    "                lowerlow.append(0)\n",
    "\n",
    "    df['Bollinger higher'] = higheraverage\n",
    "    df['Bollinger higher high'] = higherhigh\n",
    "    df['Bollinger lower low'] = lowerlow\n",
    "    \n",
    "    return df"
   ]
  },
  {
   "cell_type": "markdown",
   "metadata": {},
   "source": [
    "### Prediction Feature\n",
    "\n",
    "- What should be predicted?\n",
    "- Here: is the price higher or lower the next n days? (1, 5, 10, 20, 50, 100, 200)"
   ]
  },
  {
   "cell_type": "code",
   "execution_count": 400,
   "metadata": {
    "collapsed": false
   },
   "outputs": [],
   "source": [
    "# predict if price is higher the next n days.\n",
    "\n",
    "def predictY(df):\n",
    "    higher1 = []\n",
    "    higher5 = []\n",
    "    higher10 = []\n",
    "    higher20 = []\n",
    "    higher50 = []\n",
    "    higher100 = []\n",
    "    higher200 = []\n",
    "\n",
    "    price = df['Price'].values\n",
    "    for i in range (0, len(price)-200):\n",
    "\n",
    "        if price[i+1] > price[i]:\n",
    "            higher1.append(1)\n",
    "        else:\n",
    "            higher1.append(0)\n",
    "\n",
    "        if price[i+5] > price[i]:\n",
    "            higher5.append(1)\n",
    "        else:\n",
    "            higher5.append(0)\n",
    "\n",
    "        if price[i+10] > price[i]:\n",
    "            higher10.append(1)\n",
    "        else:\n",
    "            higher10.append(0)\n",
    "\n",
    "        if price[i+20] > price[i]:\n",
    "            higher20.append(1)\n",
    "        else:\n",
    "            higher20.append(0)\n",
    "\n",
    "        if price[i+50] > price[i]:\n",
    "            higher50.append(1)\n",
    "        else:\n",
    "            higher50.append(0)\n",
    "\n",
    "        if price[i+100] > price[i]:\n",
    "            higher100.append(1)\n",
    "        else:\n",
    "            higher100.append(0)\n",
    "\n",
    "        if price[i+200] > price[i]:\n",
    "            higher200.append(1)\n",
    "        else:\n",
    "            higher200.append(0)\n",
    "\n",
    "    for i in range (len(price)-200, len(price)):\n",
    "        higher1.append(0)\n",
    "        higher5.append(0)\n",
    "        higher10.append(0)\n",
    "        higher20.append(0)\n",
    "        higher50.append(0)\n",
    "        higher100.append(0)\n",
    "        higher200.append(0)\n",
    "\n",
    "    # for last day append 0\n",
    "    higher.append(0)\n",
    "\n",
    "    df['Prediction Feature 1'] = higher1\n",
    "    df['Prediction Feature 5'] = higher5\n",
    "    df['Prediction Feature 10'] = higher10\n",
    "    df['Prediction Feature 20'] = higher20\n",
    "    df['Prediction Feature 50'] = higher50\n",
    "    df['Prediction Feature 100'] = higher100\n",
    "    df['Prediction Feature 200'] = higher200\n",
    "    \n",
    "    return df"
   ]
  },
  {
   "cell_type": "markdown",
   "metadata": {},
   "source": [
    "### Prediction\n",
    "\n",
    "- Machine Learning begins here"
   ]
  },
  {
   "cell_type": "code",
   "execution_count": 402,
   "metadata": {
    "collapsed": false
   },
   "outputs": [
    {
     "data": {
      "text/html": [
       "<div>\n",
       "<table border=\"1\" class=\"dataframe\">\n",
       "  <thead>\n",
       "    <tr style=\"text-align: right;\">\n",
       "      <th></th>\n",
       "      <th>Date</th>\n",
       "      <th>Price</th>\n",
       "      <th>EMA 15</th>\n",
       "      <th>EMA 30</th>\n",
       "      <th>EMA 50</th>\n",
       "      <th>EMA 100</th>\n",
       "      <th>EMA 200</th>\n",
       "      <th>MACD</th>\n",
       "      <th>MACD EMA</th>\n",
       "      <th>PPO</th>\n",
       "      <th>...</th>\n",
       "      <th>Bollinger higher</th>\n",
       "      <th>Bollinger higher high</th>\n",
       "      <th>Bollinger lower low</th>\n",
       "      <th>Prediction Feature 1</th>\n",
       "      <th>Prediction Feature 5</th>\n",
       "      <th>Prediction Feature 10</th>\n",
       "      <th>Prediction Feature 20</th>\n",
       "      <th>Prediction Feature 50</th>\n",
       "      <th>Prediction Feature 100</th>\n",
       "      <th>Prediction Feature 200</th>\n",
       "    </tr>\n",
       "  </thead>\n",
       "  <tbody>\n",
       "    <tr>\n",
       "      <th>0</th>\n",
       "      <td>1.153865e+09</td>\n",
       "      <td>14.94</td>\n",
       "      <td>0.0</td>\n",
       "      <td>0.0</td>\n",
       "      <td>0.0</td>\n",
       "      <td>0.0</td>\n",
       "      <td>0.0</td>\n",
       "      <td>0.0</td>\n",
       "      <td>0.0</td>\n",
       "      <td>0.0</td>\n",
       "      <td>...</td>\n",
       "      <td>1</td>\n",
       "      <td>1</td>\n",
       "      <td>0</td>\n",
       "      <td>0</td>\n",
       "      <td>1</td>\n",
       "      <td>1</td>\n",
       "      <td>1</td>\n",
       "      <td>1</td>\n",
       "      <td>1</td>\n",
       "      <td>1</td>\n",
       "    </tr>\n",
       "    <tr>\n",
       "      <th>1</th>\n",
       "      <td>1.153951e+09</td>\n",
       "      <td>14.85</td>\n",
       "      <td>0.0</td>\n",
       "      <td>0.0</td>\n",
       "      <td>0.0</td>\n",
       "      <td>0.0</td>\n",
       "      <td>0.0</td>\n",
       "      <td>0.0</td>\n",
       "      <td>0.0</td>\n",
       "      <td>0.0</td>\n",
       "      <td>...</td>\n",
       "      <td>1</td>\n",
       "      <td>1</td>\n",
       "      <td>0</td>\n",
       "      <td>1</td>\n",
       "      <td>1</td>\n",
       "      <td>1</td>\n",
       "      <td>1</td>\n",
       "      <td>1</td>\n",
       "      <td>1</td>\n",
       "      <td>1</td>\n",
       "    </tr>\n",
       "    <tr>\n",
       "      <th>2</th>\n",
       "      <td>1.154038e+09</td>\n",
       "      <td>14.90</td>\n",
       "      <td>0.0</td>\n",
       "      <td>0.0</td>\n",
       "      <td>0.0</td>\n",
       "      <td>0.0</td>\n",
       "      <td>0.0</td>\n",
       "      <td>0.0</td>\n",
       "      <td>0.0</td>\n",
       "      <td>0.0</td>\n",
       "      <td>...</td>\n",
       "      <td>1</td>\n",
       "      <td>1</td>\n",
       "      <td>0</td>\n",
       "      <td>1</td>\n",
       "      <td>1</td>\n",
       "      <td>1</td>\n",
       "      <td>1</td>\n",
       "      <td>1</td>\n",
       "      <td>1</td>\n",
       "      <td>1</td>\n",
       "    </tr>\n",
       "  </tbody>\n",
       "</table>\n",
       "<p>3 rows × 78 columns</p>\n",
       "</div>"
      ],
      "text/plain": [
       "           Date  Price  EMA 15  EMA 30  EMA 50  EMA 100  EMA 200  MACD  \\\n",
       "0  1.153865e+09  14.94     0.0     0.0     0.0      0.0      0.0   0.0   \n",
       "1  1.153951e+09  14.85     0.0     0.0     0.0      0.0      0.0   0.0   \n",
       "2  1.154038e+09  14.90     0.0     0.0     0.0      0.0      0.0   0.0   \n",
       "\n",
       "   MACD EMA  PPO           ...            Bollinger higher  \\\n",
       "0       0.0  0.0           ...                           1   \n",
       "1       0.0  0.0           ...                           1   \n",
       "2       0.0  0.0           ...                           1   \n",
       "\n",
       "   Bollinger higher high  Bollinger lower low  Prediction Feature 1  \\\n",
       "0                      1                    0                     0   \n",
       "1                      1                    0                     1   \n",
       "2                      1                    0                     1   \n",
       "\n",
       "   Prediction Feature 5  Prediction Feature 10  Prediction Feature 20  \\\n",
       "0                     1                      1                      1   \n",
       "1                     1                      1                      1   \n",
       "2                     1                      1                      1   \n",
       "\n",
       "   Prediction Feature 50  Prediction Feature 100  Prediction Feature 200  \n",
       "0                      1                       1                       1  \n",
       "1                      1                       1                       1  \n",
       "2                      1                       1                       1  \n",
       "\n",
       "[3 rows x 78 columns]"
      ]
     },
     "execution_count": 402,
     "metadata": {},
     "output_type": "execute_result"
    }
   ],
   "source": [
    "# create dataframe with stocks\n",
    "stocklist = []\n",
    "stocks = Stock.objects.filter(source = 'Quandl')\n",
    "for i in range(0, 10):#int(len(stocks)/4)):\n",
    "    stocklist.append(stocks[i].sourceSymbol)\n",
    "\n",
    "stockdf = getStockDataframe(stocklist, '2000-01-01', '2013-01-01')\n",
    "\n",
    "# add features\n",
    "stockdf = createFeatures(stockdf)\n",
    "\n",
    "# add prediction features\n",
    "stockdf = predictY(stockdf)\n",
    "stockdf.head(3)"
   ]
  },
  {
   "cell_type": "code",
   "execution_count": 403,
   "metadata": {
    "collapsed": false
   },
   "outputs": [
    {
     "data": {
      "text/plain": [
       "[14, 71]"
      ]
     },
     "execution_count": 403,
     "metadata": {},
     "output_type": "execute_result"
    }
   ],
   "source": [
    "cols = []\n",
    "cols.append(stockdf.columns.get_loc('featPPO'))\n",
    "cols.append(stockdf.columns.get_loc('Prediction Feature 1'))\n",
    "cols"
   ]
  },
  {
   "cell_type": "code",
   "execution_count": 404,
   "metadata": {
    "collapsed": false
   },
   "outputs": [],
   "source": [
    "# drop first 200 rows of stockdf and last 200 rows, missing values because of 200 day moving average and price prediction for next 200 days\n",
    "stockdf.drop(stockdf.index[:200], inplace=True)\n",
    "stockdf.drop(stockdf.index[len(stockdf)-200:], inplace=True)"
   ]
  },
  {
   "cell_type": "code",
   "execution_count": 405,
   "metadata": {
    "collapsed": false
   },
   "outputs": [
    {
     "name": "stdout",
     "output_type": "stream",
     "text": [
      "71\n",
      "72\n",
      "73\n",
      "74\n",
      "75\n",
      "76\n",
      "77\n"
     ]
    },
    {
     "data": {
      "text/plain": [
       "[0.52027733779624041,\n",
       " 0.59791996652819701,\n",
       " 0.6193478975523744,\n",
       " 0.63488837751412097,\n",
       " 0.65126565255073066,\n",
       " 0.66244284390783303,\n",
       " 0.67284301126684798]"
      ]
     },
     "execution_count": 405,
     "metadata": {},
     "output_type": "execute_result"
    }
   ],
   "source": [
    "# use random forest for prediction\n",
    "from sklearn.ensemble import RandomForestClassifier\n",
    "from sklearn.cross_validation import train_test_split\n",
    "\n",
    "featurestart = stockdf.columns.get_loc('featPPO')\n",
    "featureend = stockdf.columns.get_loc('Prediction Feature 1')\n",
    "score = []\n",
    "rows, cols = stockdf.shape\n",
    "\n",
    "# split stock data into a training set and test set -> randomly selects 25% of data as test set\n",
    "train, test = train_test_split(stockdf, test_size = 0.25)\n",
    "\n",
    "# fit the random forest regressor\n",
    "for i in range(featureend, cols):\n",
    "    print(i)\n",
    "    stockforest = RandomForestClassifier(n_estimators = 100)\n",
    "    stockforest = stockforest.fit(train.values[0::, featurestart:featureend].astype(int), train.values[0::, i].astype(int))\n",
    "    score.append(stockforest.score(test.values[0::, featurestart:featureend].astype(int), test.values[0::, i].astype(int)))\n",
    "score"
   ]
  },
  {
   "cell_type": "code",
   "execution_count": 538,
   "metadata": {
    "collapsed": false
   },
   "outputs": [
    {
     "name": "stdout",
     "output_type": "stream",
     "text": [
      "5\n",
      "20\n",
      "50\n",
      "100\n"
     ]
    }
   ],
   "source": [
    "# final training of models:\n",
    "stockforest5 = RandomForestClassifier(n_estimators = 100)\n",
    "stockforest5 = stockforest5.fit(stockdf.values[0::, featurestart:featureend].astype(int), stockdf.values[0::, featureend+1].astype(int))\n",
    "print(5)\n",
    "\n",
    "stockforest20 = RandomForestClassifier(n_estimators = 100)\n",
    "stockforest20 = stockforest20.fit(stockdf.values[0::, featurestart:featureend].astype(int), stockdf.values[0::, featureend+3].astype(int))\n",
    "print(20)\n",
    "\n",
    "stockforest50 = RandomForestClassifier(n_estimators = 100)\n",
    "stockforest50 = stockforest50.fit(stockdf.values[0::, featurestart:featureend].astype(int), stockdf.values[0::, featureend+4].astype(int))\n",
    "print(50)\n",
    "\n",
    "stockforest100 = RandomForestClassifier(n_estimators = 100)\n",
    "stockforest100 = stockforest100.fit(stockdf.values[0::, featurestart:featureend].astype(int), stockdf.values[0::, featureend+5].astype(int))\n",
    "print(100)"
   ]
  },
  {
   "cell_type": "markdown",
   "metadata": {},
   "source": [
    "### Trading System\n",
    "\n",
    "- implement simple trading system to test prediction"
   ]
  },
  {
   "cell_type": "code",
   "execution_count": 540,
   "metadata": {
    "collapsed": false,
    "scrolled": true
   },
   "outputs": [
    {
     "name": "stdout",
     "output_type": "stream",
     "text": [
      "oliver PredictionTest\n"
     ]
    }
   ],
   "source": [
    "# create depot as test.\n",
    "from django.contrib.auth.models import User\n",
    "\n",
    "depotname = 'PredictionTest'\n",
    "user = User.objects.get(username='oliver')\n",
    "value = 10000\n",
    "depot = stockDepot.createDepot(user, depotname, value)\n",
    "print (depot)"
   ]
  },
  {
   "cell_type": "code",
   "execution_count": 547,
   "metadata": {
    "collapsed": false
   },
   "outputs": [
    {
     "name": "stdout",
     "output_type": "stream",
     "text": [
      "0.0\n",
      "[0.83348254252461951, 0.83348254252461951, 0.84601611459265891, 0.84392718591465232]\n",
      "2.5\n"
     ]
    },
    {
     "ename": "KeyboardInterrupt",
     "evalue": "",
     "output_type": "error",
     "traceback": [
      "\u001b[1;31m---------------------------------------------------------------------------\u001b[0m",
      "\u001b[1;31mKeyboardInterrupt\u001b[0m                         Traceback (most recent call last)",
      "\u001b[1;32m<ipython-input-547-6b15a8d1fde4>\u001b[0m in \u001b[0;36m<module>\u001b[1;34m()\u001b[0m\n\u001b[0;32m     22\u001b[0m \u001b[1;33m\u001b[0m\u001b[0m\n\u001b[0;32m     23\u001b[0m     \u001b[1;31m# create dataframe for trading system\u001b[0m\u001b[1;33m\u001b[0m\u001b[1;33m\u001b[0m\u001b[0m\n\u001b[1;32m---> 24\u001b[1;33m     \u001b[0mstockdfDepot\u001b[0m \u001b[1;33m=\u001b[0m \u001b[0mgetStockDataframe\u001b[0m\u001b[1;33m(\u001b[0m\u001b[0mstocklist\u001b[0m\u001b[1;33m,\u001b[0m \u001b[1;34m'2012-01-01'\u001b[0m\u001b[1;33m,\u001b[0m \u001b[0mtoday\u001b[0m\u001b[1;33m)\u001b[0m\u001b[1;33m\u001b[0m\u001b[0m\n\u001b[0m\u001b[0;32m     25\u001b[0m     \u001b[0mstockdfDepot\u001b[0m \u001b[1;33m=\u001b[0m \u001b[0mcreateFeatures\u001b[0m\u001b[1;33m(\u001b[0m\u001b[0mstockdfDepot\u001b[0m\u001b[1;33m)\u001b[0m\u001b[1;33m\u001b[0m\u001b[0m\n\u001b[0;32m     26\u001b[0m     \u001b[0mstockdfDepot\u001b[0m\u001b[1;33m.\u001b[0m\u001b[0mdrop\u001b[0m\u001b[1;33m(\u001b[0m\u001b[0mstockdfDepot\u001b[0m\u001b[1;33m.\u001b[0m\u001b[0mindex\u001b[0m\u001b[1;33m[\u001b[0m\u001b[1;33m:\u001b[0m\u001b[1;36m200\u001b[0m\u001b[1;33m]\u001b[0m\u001b[1;33m,\u001b[0m \u001b[0minplace\u001b[0m\u001b[1;33m=\u001b[0m\u001b[1;32mTrue\u001b[0m\u001b[1;33m)\u001b[0m\u001b[1;33m\u001b[0m\u001b[0m\n",
      "\u001b[1;32m<ipython-input-395-2d5526fd0c32>\u001b[0m in \u001b[0;36mgetStockDataframe\u001b[1;34m(stocklist, fromDate, toDate)\u001b[0m\n\u001b[0;32m     38\u001b[0m         \u001b[0mdays\u001b[0m \u001b[1;33m=\u001b[0m \u001b[1;36m20\u001b[0m \u001b[1;31m# bollinger band based on 20-day Simple Moving Average\u001b[0m\u001b[1;33m\u001b[0m\u001b[0m\n\u001b[0;32m     39\u001b[0m         \u001b[0mfactor\u001b[0m \u001b[1;33m=\u001b[0m \u001b[1;36m2\u001b[0m \u001b[1;31m# factor for standard deviation, lowBol = averageBol - 2 * std\u001b[0m\u001b[1;33m\u001b[0m\u001b[0m\n\u001b[1;32m---> 40\u001b[1;33m         \u001b[0mlowBol\u001b[0m\u001b[1;33m,\u001b[0m \u001b[0maverageBol\u001b[0m\u001b[1;33m,\u001b[0m \u001b[0mhighBol\u001b[0m \u001b[1;33m=\u001b[0m \u001b[0mteststock\u001b[0m\u001b[1;33m.\u001b[0m\u001b[0mBollinger\u001b[0m\u001b[1;33m(\u001b[0m\u001b[0mdates\u001b[0m\u001b[1;33m,\u001b[0m \u001b[0mdata\u001b[0m\u001b[1;33m,\u001b[0m \u001b[0mdays\u001b[0m\u001b[1;33m,\u001b[0m \u001b[0mfactor\u001b[0m\u001b[1;33m)\u001b[0m\u001b[1;33m\u001b[0m\u001b[0m\n\u001b[0m\u001b[0;32m     41\u001b[0m \u001b[1;33m\u001b[0m\u001b[0m\n\u001b[0;32m     42\u001b[0m         \u001b[1;31m# get exponential moving averages\u001b[0m\u001b[1;33m\u001b[0m\u001b[1;33m\u001b[0m\u001b[0m\n",
      "\u001b[1;32m/home/oliver/Repositories/CodeA/codea/modules/FinApp/stock.py\u001b[0m in \u001b[0;36mBollinger\u001b[1;34m(self, dates, data, days, factor)\u001b[0m\n\u001b[0;32m     95\u001b[0m         \u001b[0mhigh\u001b[0m \u001b[1;33m=\u001b[0m \u001b[1;33m[\u001b[0m\u001b[1;36m0\u001b[0m\u001b[1;33m]\u001b[0m \u001b[1;33m*\u001b[0m \u001b[0mlen\u001b[0m\u001b[1;33m(\u001b[0m\u001b[0mdata\u001b[0m\u001b[1;33m)\u001b[0m\u001b[1;33m\u001b[0m\u001b[0m\n\u001b[0;32m     96\u001b[0m         \u001b[1;32mfor\u001b[0m \u001b[0mi\u001b[0m \u001b[1;32min\u001b[0m \u001b[0mrange\u001b[0m\u001b[1;33m(\u001b[0m\u001b[0mdays\u001b[0m \u001b[1;33m+\u001b[0m \u001b[1;36m1\u001b[0m\u001b[1;33m,\u001b[0m \u001b[0mlen\u001b[0m\u001b[1;33m(\u001b[0m\u001b[0mdata\u001b[0m\u001b[1;33m)\u001b[0m\u001b[1;33m-\u001b[0m\u001b[1;36m1\u001b[0m\u001b[1;33m)\u001b[0m\u001b[1;33m:\u001b[0m\u001b[1;33m\u001b[0m\u001b[0m\n\u001b[1;32m---> 97\u001b[1;33m             \u001b[0mstandardDev\u001b[0m \u001b[1;33m=\u001b[0m \u001b[0mnp\u001b[0m\u001b[1;33m.\u001b[0m\u001b[0mstd\u001b[0m\u001b[1;33m(\u001b[0m\u001b[0mdata\u001b[0m\u001b[1;33m[\u001b[0m\u001b[0mi\u001b[0m\u001b[1;33m-\u001b[0m\u001b[0mdays\u001b[0m\u001b[1;33m:\u001b[0m\u001b[0mi\u001b[0m\u001b[1;33m]\u001b[0m\u001b[1;33m)\u001b[0m \u001b[1;31m# get days standard deviation\u001b[0m\u001b[1;33m\u001b[0m\u001b[0m\n\u001b[0m\u001b[0;32m     98\u001b[0m             \u001b[0mlow\u001b[0m\u001b[1;33m[\u001b[0m\u001b[0mi\u001b[0m\u001b[1;33m]\u001b[0m \u001b[1;33m=\u001b[0m \u001b[0maverage\u001b[0m\u001b[1;33m[\u001b[0m\u001b[0mi\u001b[0m\u001b[1;33m]\u001b[0m \u001b[1;33m-\u001b[0m \u001b[0mfactor\u001b[0m \u001b[1;33m*\u001b[0m \u001b[0mstandardDev\u001b[0m\u001b[1;33m\u001b[0m\u001b[0m\n\u001b[0;32m     99\u001b[0m             \u001b[0mhigh\u001b[0m\u001b[1;33m[\u001b[0m\u001b[0mi\u001b[0m\u001b[1;33m]\u001b[0m \u001b[1;33m=\u001b[0m \u001b[0maverage\u001b[0m\u001b[1;33m[\u001b[0m\u001b[0mi\u001b[0m\u001b[1;33m]\u001b[0m \u001b[1;33m+\u001b[0m \u001b[0mfactor\u001b[0m \u001b[1;33m*\u001b[0m \u001b[0mstandardDev\u001b[0m\u001b[1;33m\u001b[0m\u001b[0m\n",
      "\u001b[1;32m/home/oliver/Repositories/CodeA/stockenv/lib/python3.5/site-packages/numpy/core/fromnumeric.py\u001b[0m in \u001b[0;36mstd\u001b[1;34m(a, axis, dtype, out, ddof, keepdims)\u001b[0m\n\u001b[0;32m   2990\u001b[0m \u001b[1;33m\u001b[0m\u001b[0m\n\u001b[0;32m   2991\u001b[0m     return _methods._std(a, axis=axis, dtype=dtype, out=out, ddof=ddof,\n\u001b[1;32m-> 2992\u001b[1;33m                          keepdims=keepdims)\n\u001b[0m\u001b[0;32m   2993\u001b[0m \u001b[1;33m\u001b[0m\u001b[0m\n\u001b[0;32m   2994\u001b[0m \u001b[1;33m\u001b[0m\u001b[0m\n",
      "\u001b[1;32m/home/oliver/Repositories/CodeA/stockenv/lib/python3.5/site-packages/numpy/core/_methods.py\u001b[0m in \u001b[0;36m_std\u001b[1;34m(a, axis, dtype, out, ddof, keepdims)\u001b[0m\n\u001b[0;32m    122\u001b[0m \u001b[1;32mdef\u001b[0m \u001b[0m_std\u001b[0m\u001b[1;33m(\u001b[0m\u001b[0ma\u001b[0m\u001b[1;33m,\u001b[0m \u001b[0maxis\u001b[0m\u001b[1;33m=\u001b[0m\u001b[1;32mNone\u001b[0m\u001b[1;33m,\u001b[0m \u001b[0mdtype\u001b[0m\u001b[1;33m=\u001b[0m\u001b[1;32mNone\u001b[0m\u001b[1;33m,\u001b[0m \u001b[0mout\u001b[0m\u001b[1;33m=\u001b[0m\u001b[1;32mNone\u001b[0m\u001b[1;33m,\u001b[0m \u001b[0mddof\u001b[0m\u001b[1;33m=\u001b[0m\u001b[1;36m0\u001b[0m\u001b[1;33m,\u001b[0m \u001b[0mkeepdims\u001b[0m\u001b[1;33m=\u001b[0m\u001b[1;32mFalse\u001b[0m\u001b[1;33m)\u001b[0m\u001b[1;33m:\u001b[0m\u001b[1;33m\u001b[0m\u001b[0m\n\u001b[0;32m    123\u001b[0m     ret = _var(a, axis=axis, dtype=dtype, out=out, ddof=ddof,\n\u001b[1;32m--> 124\u001b[1;33m                keepdims=keepdims)\n\u001b[0m\u001b[0;32m    125\u001b[0m \u001b[1;33m\u001b[0m\u001b[0m\n\u001b[0;32m    126\u001b[0m     \u001b[1;32mif\u001b[0m \u001b[0misinstance\u001b[0m\u001b[1;33m(\u001b[0m\u001b[0mret\u001b[0m\u001b[1;33m,\u001b[0m \u001b[0mmu\u001b[0m\u001b[1;33m.\u001b[0m\u001b[0mndarray\u001b[0m\u001b[1;33m)\u001b[0m\u001b[1;33m:\u001b[0m\u001b[1;33m\u001b[0m\u001b[0m\n",
      "\u001b[1;32m/home/oliver/Repositories/CodeA/stockenv/lib/python3.5/site-packages/numpy/core/_methods.py\u001b[0m in \u001b[0;36m_var\u001b[1;34m(a, axis, dtype, out, ddof, keepdims)\u001b[0m\n\u001b[0;32m     99\u001b[0m     \u001b[1;31m# Note that x may not be inexact and that we need it to be an array,\u001b[0m\u001b[1;33m\u001b[0m\u001b[1;33m\u001b[0m\u001b[0m\n\u001b[0;32m    100\u001b[0m     \u001b[1;31m# not a scalar.\u001b[0m\u001b[1;33m\u001b[0m\u001b[1;33m\u001b[0m\u001b[0m\n\u001b[1;32m--> 101\u001b[1;33m     \u001b[0mx\u001b[0m \u001b[1;33m=\u001b[0m \u001b[0masanyarray\u001b[0m\u001b[1;33m(\u001b[0m\u001b[0marr\u001b[0m \u001b[1;33m-\u001b[0m \u001b[0marrmean\u001b[0m\u001b[1;33m)\u001b[0m\u001b[1;33m\u001b[0m\u001b[0m\n\u001b[0m\u001b[0;32m    102\u001b[0m     \u001b[1;32mif\u001b[0m \u001b[0missubclass\u001b[0m\u001b[1;33m(\u001b[0m\u001b[0marr\u001b[0m\u001b[1;33m.\u001b[0m\u001b[0mdtype\u001b[0m\u001b[1;33m.\u001b[0m\u001b[0mtype\u001b[0m\u001b[1;33m,\u001b[0m \u001b[0mnt\u001b[0m\u001b[1;33m.\u001b[0m\u001b[0mcomplexfloating\u001b[0m\u001b[1;33m)\u001b[0m\u001b[1;33m:\u001b[0m\u001b[1;33m\u001b[0m\u001b[0m\n\u001b[0;32m    103\u001b[0m         \u001b[0mx\u001b[0m \u001b[1;33m=\u001b[0m \u001b[0mum\u001b[0m\u001b[1;33m.\u001b[0m\u001b[0mmultiply\u001b[0m\u001b[1;33m(\u001b[0m\u001b[0mx\u001b[0m\u001b[1;33m,\u001b[0m \u001b[0mum\u001b[0m\u001b[1;33m.\u001b[0m\u001b[0mconjugate\u001b[0m\u001b[1;33m(\u001b[0m\u001b[0mx\u001b[0m\u001b[1;33m)\u001b[0m\u001b[1;33m,\u001b[0m \u001b[0mout\u001b[0m\u001b[1;33m=\u001b[0m\u001b[0mx\u001b[0m\u001b[1;33m)\u001b[0m\u001b[1;33m.\u001b[0m\u001b[0mreal\u001b[0m\u001b[1;33m\u001b[0m\u001b[0m\n",
      "\u001b[1;31mKeyboardInterrupt\u001b[0m: "
     ]
    }
   ],
   "source": [
    "# Import stocks for prediction:\n",
    "today = datetime.datetime.now().strftime(\"%Y-%m-%d\")\n",
    "stockdfAccuracy = [] # used to check accuracy for each stock\n",
    "stockdfDepotList = [] # used to run trading system\n",
    "\n",
    "for i in range(0, len(stocklist)): # take second quarter for now\n",
    "    print (i/len(stocklist)*100)\n",
    "    \n",
    "    # create dataframe to test accuracy\n",
    "    stockdfTest = getStockDataframe([stocklist[i]], '2000-01-01', '2013-01-01')\n",
    "    stockdfTest = createFeatures(stockdfTest)\n",
    "    stockdfTest = predictY(stockdfTest)\n",
    "    stockdfTest.drop(stockdfTest.index[:200], inplace=True)\n",
    "    stockdfTest.drop(stockdfTest.index[len(stockdfTest)-200:], inplace=True)\n",
    "    \n",
    "    # assess accuracy for different prediction times\n",
    "    score5 = stockforest5.score(stockdfTest.values[0::, featurestart:featureend].astype(int), stockdfTest.values[0::, featureend+1].astype(int))\n",
    "    score20 = stockforest20.score(stockdfTest.values[0::, featurestart:featureend].astype(int), stockdfTest.values[0::, featureend+3].astype(int))\n",
    "    score50 = stockforest50.score(stockdfTest.values[0::, featurestart:featureend].astype(int), stockdfTest.values[0::, featureend+4].astype(int))\n",
    "    score100 = stockforest100.score(stockdfTest.values[0::, featurestart:featureend].astype(int), stockdfTest.values[0::, featureend+5].astype(int))\n",
    "    stockdfAccuracy.append([score5, score20, score50, score100])\n",
    "    \n",
    "    # create dataframe for trading system\n",
    "    stockdfDepot = getStockDataframe(stocklist, '2012-01-01', today)\n",
    "    stockdfDepot = createFeatures(stockdfDepot)\n",
    "    stockdfDepot.drop(stockdfDepot.index[:200], inplace=True)\n",
    "    stockdfDepot.drop(stockdfDepot.index[len(stockdfDepot)-200:], inplace=True)\n",
    "    stockdfDepotList.append(stockdfDepot)\n",
    "    \n",
    "    print(stockdfAccuracy[i])"
   ]
  },
  {
   "cell_type": "code",
   "execution_count": 544,
   "metadata": {
    "collapsed": false
   },
   "outputs": [
    {
     "name": "stdout",
     "output_type": "stream",
     "text": [
      "[] 10000.0 10000 10000.0 0.0\n"
     ]
    }
   ],
   "source": [
    "def buyorsell(depot):#'probabilities, stocklist, depot):\n",
    "    depotcontent_total, balance, depotvalue, available, change = stockDepot.depotAnalysis(depot)\n",
    "    print(depotcontent_total, balance, depotvalue, available, change)\n",
    "    \n",
    "buyorsell(depot)"
   ]
  },
  {
   "cell_type": "code",
   "execution_count": 537,
   "metadata": {
    "collapsed": false
   },
   "outputs": [
    {
     "name": "stdout",
     "output_type": "stream",
     "text": [
      "[[0.90000000000000002, 0.90000000000000002], [0.34999999999999998, 0.34999999999999998], [0.37, 0.37], [0.49400000000000005, 0.49400000000000005], [0.52000000000000002, 0.52000000000000002], [0.46999999999999997, 0.46999999999999997], [0.66000000000000003, 0.66000000000000003], [0.85999999999999999, 0.85999999999999999], [0.78000000000000003, 0.78000000000000003], [0.44, 0.44], [0.28999999999999998, 0.28999999999999998], [0.56000000000000005, 0.56000000000000005], [0.34000000000000002, 0.34000000000000002], [0.31, 0.31], [0.81999999999999995, 0.81999999999999995], [0.28000000000000003, 0.28000000000000003], [0.58999999999999997, 0.58999999999999997], [0.65000000000000002, 0.65000000000000002], [0.73999999999999999, 0.73999999999999999], [0.63, 0.63], [0.31, 0.31], [0.56000000000000005, 0.56000000000000005], [0.81999999999999995, 0.81999999999999995], [0.33000000000000002, 0.33000000000000002], [0.73999999999999999, 0.73999999999999999], [0.48999999999999999, 0.48999999999999999], [0.53000000000000003, 0.53000000000000003], [0.5, 0.5], [0.66000000000000003, 0.66000000000000003], [0.27000000000000002, 0.27000000000000002], [0.9441666666666666, 0.9441666666666666], [0.71999999999999997, 0.71999999999999997], [0.87, 0.87], [0.66704982392918821, 0.66704982392918821], [0.625, 0.625], [0.23000000000000001, 0.23000000000000001], [0.31666666666666665, 0.31666666666666665], [0.47999999999999998, 0.47999999999999998], [0.33000000000000002, 0.33000000000000002]]\n"
     ]
    },
    {
     "ename": "KeyboardInterrupt",
     "evalue": "",
     "output_type": "error",
     "traceback": [
      "\u001b[1;31m---------------------------------------------------------------------------\u001b[0m",
      "\u001b[1;31mKeyboardInterrupt\u001b[0m                         Traceback (most recent call last)",
      "\u001b[1;32m<ipython-input-537-44ac6736e904>\u001b[0m in \u001b[0;36m<module>\u001b[1;34m()\u001b[0m\n\u001b[0;32m      8\u001b[0m             \u001b[0mproba5\u001b[0m \u001b[1;33m=\u001b[0m \u001b[0mstockforest5\u001b[0m\u001b[1;33m.\u001b[0m\u001b[0mpredict_proba\u001b[0m\u001b[1;33m(\u001b[0m\u001b[0mstockdfDepotList\u001b[0m\u001b[1;33m[\u001b[0m\u001b[0mj\u001b[0m\u001b[1;33m]\u001b[0m\u001b[1;33m.\u001b[0m\u001b[0mvalues\u001b[0m\u001b[1;33m[\u001b[0m\u001b[0mi\u001b[0m\u001b[1;33m:\u001b[0m\u001b[0mi\u001b[0m\u001b[1;33m+\u001b[0m\u001b[1;36m1\u001b[0m\u001b[1;33m,\u001b[0m \u001b[0mfeaturestart\u001b[0m\u001b[1;33m:\u001b[0m\u001b[0mfeatureend\u001b[0m\u001b[1;33m]\u001b[0m\u001b[1;33m.\u001b[0m\u001b[0mastype\u001b[0m\u001b[1;33m(\u001b[0m\u001b[0mint\u001b[0m\u001b[1;33m)\u001b[0m\u001b[1;33m)\u001b[0m\u001b[1;33m\u001b[0m\u001b[0m\n\u001b[0;32m      9\u001b[0m             \u001b[0mproba20\u001b[0m \u001b[1;33m=\u001b[0m \u001b[0mstockforest20\u001b[0m\u001b[1;33m.\u001b[0m\u001b[0mpredict_proba\u001b[0m\u001b[1;33m(\u001b[0m\u001b[0mstockdfDepotList\u001b[0m\u001b[1;33m[\u001b[0m\u001b[0mj\u001b[0m\u001b[1;33m]\u001b[0m\u001b[1;33m.\u001b[0m\u001b[0mvalues\u001b[0m\u001b[1;33m[\u001b[0m\u001b[0mi\u001b[0m\u001b[1;33m:\u001b[0m\u001b[0mi\u001b[0m\u001b[1;33m+\u001b[0m\u001b[1;36m1\u001b[0m\u001b[1;33m,\u001b[0m \u001b[0mfeaturestart\u001b[0m\u001b[1;33m:\u001b[0m\u001b[0mfeatureend\u001b[0m\u001b[1;33m]\u001b[0m\u001b[1;33m.\u001b[0m\u001b[0mastype\u001b[0m\u001b[1;33m(\u001b[0m\u001b[0mint\u001b[0m\u001b[1;33m)\u001b[0m\u001b[1;33m)\u001b[0m\u001b[1;33m\u001b[0m\u001b[0m\n\u001b[1;32m---> 10\u001b[1;33m             \u001b[0mproba50\u001b[0m \u001b[1;33m=\u001b[0m \u001b[0mstockforest50\u001b[0m\u001b[1;33m.\u001b[0m\u001b[0mpredict_proba\u001b[0m\u001b[1;33m(\u001b[0m\u001b[0mstockdfDepotList\u001b[0m\u001b[1;33m[\u001b[0m\u001b[0mj\u001b[0m\u001b[1;33m]\u001b[0m\u001b[1;33m.\u001b[0m\u001b[0mvalues\u001b[0m\u001b[1;33m[\u001b[0m\u001b[0mi\u001b[0m\u001b[1;33m:\u001b[0m\u001b[0mi\u001b[0m\u001b[1;33m+\u001b[0m\u001b[1;36m1\u001b[0m\u001b[1;33m,\u001b[0m \u001b[0mfeaturestart\u001b[0m\u001b[1;33m:\u001b[0m\u001b[0mfeatureend\u001b[0m\u001b[1;33m]\u001b[0m\u001b[1;33m.\u001b[0m\u001b[0mastype\u001b[0m\u001b[1;33m(\u001b[0m\u001b[0mint\u001b[0m\u001b[1;33m)\u001b[0m\u001b[1;33m)\u001b[0m\u001b[1;33m\u001b[0m\u001b[0m\n\u001b[0m\u001b[0;32m     11\u001b[0m             \u001b[1;31m#proba100 = stockforest100.predict_proba(stockdfDepotList[j].values[i:i+1, featurestart:featureend].astype(int))\u001b[0m\u001b[1;33m\u001b[0m\u001b[1;33m\u001b[0m\u001b[0m\n\u001b[0;32m     12\u001b[0m             \u001b[1;31m# multiply by accuracies\u001b[0m\u001b[1;33m\u001b[0m\u001b[1;33m\u001b[0m\u001b[0m\n",
      "\u001b[1;32m/home/oliver/Repositories/CodeA/stockenv/lib/python3.5/site-packages/sklearn/ensemble/forest.py\u001b[0m in \u001b[0;36mpredict_proba\u001b[1;34m(self, X)\u001b[0m\n\u001b[0;32m    545\u001b[0m             delayed(_parallel_helper)(e, 'predict_proba', X,\n\u001b[0;32m    546\u001b[0m                                       check_input=False)\n\u001b[1;32m--> 547\u001b[1;33m             for e in self.estimators_)\n\u001b[0m\u001b[0;32m    548\u001b[0m \u001b[1;33m\u001b[0m\u001b[0m\n\u001b[0;32m    549\u001b[0m         \u001b[1;31m# Reduce\u001b[0m\u001b[1;33m\u001b[0m\u001b[1;33m\u001b[0m\u001b[0m\n",
      "\u001b[1;32m/home/oliver/Repositories/CodeA/stockenv/lib/python3.5/site-packages/sklearn/externals/joblib/parallel.py\u001b[0m in \u001b[0;36m__call__\u001b[1;34m(self, iterable)\u001b[0m\n\u001b[0;32m    798\u001b[0m             \u001b[1;31m# was dispatched. In particular this covers the edge\u001b[0m\u001b[1;33m\u001b[0m\u001b[1;33m\u001b[0m\u001b[0m\n\u001b[0;32m    799\u001b[0m             \u001b[1;31m# case of Parallel used with an exhausted iterator.\u001b[0m\u001b[1;33m\u001b[0m\u001b[1;33m\u001b[0m\u001b[0m\n\u001b[1;32m--> 800\u001b[1;33m             \u001b[1;32mwhile\u001b[0m \u001b[0mself\u001b[0m\u001b[1;33m.\u001b[0m\u001b[0mdispatch_one_batch\u001b[0m\u001b[1;33m(\u001b[0m\u001b[0miterator\u001b[0m\u001b[1;33m)\u001b[0m\u001b[1;33m:\u001b[0m\u001b[1;33m\u001b[0m\u001b[0m\n\u001b[0m\u001b[0;32m    801\u001b[0m                 \u001b[0mself\u001b[0m\u001b[1;33m.\u001b[0m\u001b[0m_iterating\u001b[0m \u001b[1;33m=\u001b[0m \u001b[1;32mTrue\u001b[0m\u001b[1;33m\u001b[0m\u001b[0m\n\u001b[0;32m    802\u001b[0m             \u001b[1;32melse\u001b[0m\u001b[1;33m:\u001b[0m\u001b[1;33m\u001b[0m\u001b[0m\n",
      "\u001b[1;32m/home/oliver/Repositories/CodeA/stockenv/lib/python3.5/site-packages/sklearn/externals/joblib/parallel.py\u001b[0m in \u001b[0;36mdispatch_one_batch\u001b[1;34m(self, iterator)\u001b[0m\n\u001b[0;32m    656\u001b[0m                 \u001b[1;32mreturn\u001b[0m \u001b[1;32mFalse\u001b[0m\u001b[1;33m\u001b[0m\u001b[0m\n\u001b[0;32m    657\u001b[0m             \u001b[1;32melse\u001b[0m\u001b[1;33m:\u001b[0m\u001b[1;33m\u001b[0m\u001b[0m\n\u001b[1;32m--> 658\u001b[1;33m                 \u001b[0mself\u001b[0m\u001b[1;33m.\u001b[0m\u001b[0m_dispatch\u001b[0m\u001b[1;33m(\u001b[0m\u001b[0mtasks\u001b[0m\u001b[1;33m)\u001b[0m\u001b[1;33m\u001b[0m\u001b[0m\n\u001b[0m\u001b[0;32m    659\u001b[0m                 \u001b[1;32mreturn\u001b[0m \u001b[1;32mTrue\u001b[0m\u001b[1;33m\u001b[0m\u001b[0m\n\u001b[0;32m    660\u001b[0m \u001b[1;33m\u001b[0m\u001b[0m\n",
      "\u001b[1;32m/home/oliver/Repositories/CodeA/stockenv/lib/python3.5/site-packages/sklearn/externals/joblib/parallel.py\u001b[0m in \u001b[0;36m_dispatch\u001b[1;34m(self, batch)\u001b[0m\n\u001b[0;32m    564\u001b[0m \u001b[1;33m\u001b[0m\u001b[0m\n\u001b[0;32m    565\u001b[0m         \u001b[1;32mif\u001b[0m \u001b[0mself\u001b[0m\u001b[1;33m.\u001b[0m\u001b[0m_pool\u001b[0m \u001b[1;32mis\u001b[0m \u001b[1;32mNone\u001b[0m\u001b[1;33m:\u001b[0m\u001b[1;33m\u001b[0m\u001b[0m\n\u001b[1;32m--> 566\u001b[1;33m             \u001b[0mjob\u001b[0m \u001b[1;33m=\u001b[0m \u001b[0mImmediateComputeBatch\u001b[0m\u001b[1;33m(\u001b[0m\u001b[0mbatch\u001b[0m\u001b[1;33m)\u001b[0m\u001b[1;33m\u001b[0m\u001b[0m\n\u001b[0m\u001b[0;32m    567\u001b[0m             \u001b[0mself\u001b[0m\u001b[1;33m.\u001b[0m\u001b[0m_jobs\u001b[0m\u001b[1;33m.\u001b[0m\u001b[0mappend\u001b[0m\u001b[1;33m(\u001b[0m\u001b[0mjob\u001b[0m\u001b[1;33m)\u001b[0m\u001b[1;33m\u001b[0m\u001b[0m\n\u001b[0;32m    568\u001b[0m             \u001b[0mself\u001b[0m\u001b[1;33m.\u001b[0m\u001b[0mn_dispatched_batches\u001b[0m \u001b[1;33m+=\u001b[0m \u001b[1;36m1\u001b[0m\u001b[1;33m\u001b[0m\u001b[0m\n",
      "\u001b[1;32m/home/oliver/Repositories/CodeA/stockenv/lib/python3.5/site-packages/sklearn/externals/joblib/parallel.py\u001b[0m in \u001b[0;36m__init__\u001b[1;34m(self, batch)\u001b[0m\n\u001b[0;32m    178\u001b[0m         \u001b[1;31m# Don't delay the application, to avoid keeping the input\u001b[0m\u001b[1;33m\u001b[0m\u001b[1;33m\u001b[0m\u001b[0m\n\u001b[0;32m    179\u001b[0m         \u001b[1;31m# arguments in memory\u001b[0m\u001b[1;33m\u001b[0m\u001b[1;33m\u001b[0m\u001b[0m\n\u001b[1;32m--> 180\u001b[1;33m         \u001b[0mself\u001b[0m\u001b[1;33m.\u001b[0m\u001b[0mresults\u001b[0m \u001b[1;33m=\u001b[0m \u001b[0mbatch\u001b[0m\u001b[1;33m(\u001b[0m\u001b[1;33m)\u001b[0m\u001b[1;33m\u001b[0m\u001b[0m\n\u001b[0m\u001b[0;32m    181\u001b[0m \u001b[1;33m\u001b[0m\u001b[0m\n\u001b[0;32m    182\u001b[0m     \u001b[1;32mdef\u001b[0m \u001b[0mget\u001b[0m\u001b[1;33m(\u001b[0m\u001b[0mself\u001b[0m\u001b[1;33m)\u001b[0m\u001b[1;33m:\u001b[0m\u001b[1;33m\u001b[0m\u001b[0m\n",
      "\u001b[1;32m/home/oliver/Repositories/CodeA/stockenv/lib/python3.5/site-packages/sklearn/externals/joblib/parallel.py\u001b[0m in \u001b[0;36m__call__\u001b[1;34m(self)\u001b[0m\n\u001b[0;32m     70\u001b[0m \u001b[1;33m\u001b[0m\u001b[0m\n\u001b[0;32m     71\u001b[0m     \u001b[1;32mdef\u001b[0m \u001b[0m__call__\u001b[0m\u001b[1;33m(\u001b[0m\u001b[0mself\u001b[0m\u001b[1;33m)\u001b[0m\u001b[1;33m:\u001b[0m\u001b[1;33m\u001b[0m\u001b[0m\n\u001b[1;32m---> 72\u001b[1;33m         \u001b[1;32mreturn\u001b[0m \u001b[1;33m[\u001b[0m\u001b[0mfunc\u001b[0m\u001b[1;33m(\u001b[0m\u001b[1;33m*\u001b[0m\u001b[0margs\u001b[0m\u001b[1;33m,\u001b[0m \u001b[1;33m**\u001b[0m\u001b[0mkwargs\u001b[0m\u001b[1;33m)\u001b[0m \u001b[1;32mfor\u001b[0m \u001b[0mfunc\u001b[0m\u001b[1;33m,\u001b[0m \u001b[0margs\u001b[0m\u001b[1;33m,\u001b[0m \u001b[0mkwargs\u001b[0m \u001b[1;32min\u001b[0m \u001b[0mself\u001b[0m\u001b[1;33m.\u001b[0m\u001b[0mitems\u001b[0m\u001b[1;33m]\u001b[0m\u001b[1;33m\u001b[0m\u001b[0m\n\u001b[0m\u001b[0;32m     73\u001b[0m \u001b[1;33m\u001b[0m\u001b[0m\n\u001b[0;32m     74\u001b[0m     \u001b[1;32mdef\u001b[0m \u001b[0m__len__\u001b[0m\u001b[1;33m(\u001b[0m\u001b[0mself\u001b[0m\u001b[1;33m)\u001b[0m\u001b[1;33m:\u001b[0m\u001b[1;33m\u001b[0m\u001b[0m\n",
      "\u001b[1;32m/home/oliver/Repositories/CodeA/stockenv/lib/python3.5/site-packages/sklearn/externals/joblib/parallel.py\u001b[0m in \u001b[0;36m<listcomp>\u001b[1;34m(.0)\u001b[0m\n\u001b[0;32m     70\u001b[0m \u001b[1;33m\u001b[0m\u001b[0m\n\u001b[0;32m     71\u001b[0m     \u001b[1;32mdef\u001b[0m \u001b[0m__call__\u001b[0m\u001b[1;33m(\u001b[0m\u001b[0mself\u001b[0m\u001b[1;33m)\u001b[0m\u001b[1;33m:\u001b[0m\u001b[1;33m\u001b[0m\u001b[0m\n\u001b[1;32m---> 72\u001b[1;33m         \u001b[1;32mreturn\u001b[0m \u001b[1;33m[\u001b[0m\u001b[0mfunc\u001b[0m\u001b[1;33m(\u001b[0m\u001b[1;33m*\u001b[0m\u001b[0margs\u001b[0m\u001b[1;33m,\u001b[0m \u001b[1;33m**\u001b[0m\u001b[0mkwargs\u001b[0m\u001b[1;33m)\u001b[0m \u001b[1;32mfor\u001b[0m \u001b[0mfunc\u001b[0m\u001b[1;33m,\u001b[0m \u001b[0margs\u001b[0m\u001b[1;33m,\u001b[0m \u001b[0mkwargs\u001b[0m \u001b[1;32min\u001b[0m \u001b[0mself\u001b[0m\u001b[1;33m.\u001b[0m\u001b[0mitems\u001b[0m\u001b[1;33m]\u001b[0m\u001b[1;33m\u001b[0m\u001b[0m\n\u001b[0m\u001b[0;32m     73\u001b[0m \u001b[1;33m\u001b[0m\u001b[0m\n\u001b[0;32m     74\u001b[0m     \u001b[1;32mdef\u001b[0m \u001b[0m__len__\u001b[0m\u001b[1;33m(\u001b[0m\u001b[0mself\u001b[0m\u001b[1;33m)\u001b[0m\u001b[1;33m:\u001b[0m\u001b[1;33m\u001b[0m\u001b[0m\n",
      "\u001b[1;32m/home/oliver/Repositories/CodeA/stockenv/lib/python3.5/site-packages/sklearn/ensemble/forest.py\u001b[0m in \u001b[0;36m_parallel_helper\u001b[1;34m(obj, methodname, *args, **kwargs)\u001b[0m\n\u001b[0;32m    123\u001b[0m \u001b[1;32mdef\u001b[0m \u001b[0m_parallel_helper\u001b[0m\u001b[1;33m(\u001b[0m\u001b[0mobj\u001b[0m\u001b[1;33m,\u001b[0m \u001b[0mmethodname\u001b[0m\u001b[1;33m,\u001b[0m \u001b[1;33m*\u001b[0m\u001b[0margs\u001b[0m\u001b[1;33m,\u001b[0m \u001b[1;33m**\u001b[0m\u001b[0mkwargs\u001b[0m\u001b[1;33m)\u001b[0m\u001b[1;33m:\u001b[0m\u001b[1;33m\u001b[0m\u001b[0m\n\u001b[0;32m    124\u001b[0m     \u001b[1;34m\"\"\"Private helper to workaround Python 2 pickle limitations\"\"\"\u001b[0m\u001b[1;33m\u001b[0m\u001b[0m\n\u001b[1;32m--> 125\u001b[1;33m     \u001b[1;32mreturn\u001b[0m \u001b[0mgetattr\u001b[0m\u001b[1;33m(\u001b[0m\u001b[0mobj\u001b[0m\u001b[1;33m,\u001b[0m \u001b[0mmethodname\u001b[0m\u001b[1;33m)\u001b[0m\u001b[1;33m(\u001b[0m\u001b[1;33m*\u001b[0m\u001b[0margs\u001b[0m\u001b[1;33m,\u001b[0m \u001b[1;33m**\u001b[0m\u001b[0mkwargs\u001b[0m\u001b[1;33m)\u001b[0m\u001b[1;33m\u001b[0m\u001b[0m\n\u001b[0m\u001b[0;32m    126\u001b[0m \u001b[1;33m\u001b[0m\u001b[0m\n\u001b[0;32m    127\u001b[0m \u001b[1;33m\u001b[0m\u001b[0m\n",
      "\u001b[1;31mKeyboardInterrupt\u001b[0m: "
     ]
    }
   ],
   "source": [
    "# go through dataframe\n",
    "for i in range(0, 20): #len(stockdfDepotList[0])): # for each day\n",
    "    probabilities = []\n",
    "    for j in range(0, int(len(stocks)/4)): # for each stock\n",
    "        if(len(stockdfDepotList[j]) < i+1):\n",
    "            probabilities.append(0)\n",
    "        else:\n",
    "            proba5 = stockforest5.predict_proba(stockdfDepotList[j].values[i:i+1, featurestart:featureend].astype(int))\n",
    "            #proba20 = stockforest20.predict_proba(stockdfDepotList[j].values[i:i+1, featurestart:featureend].astype(int))\n",
    "            proba50 = stockforest50.predict_proba(stockdfDepotList[j].values[i:i+1, featurestart:featureend].astype(int))\n",
    "            #proba100 = stockforest100.predict_proba(stockdfDepotList[j].values[i:i+1, featurestart:featureend].astype(int))\n",
    "            # multiply by accuracies\n",
    "            #proba5 = proba5[0][0] * stockdfAccuracy[j][0]\n",
    "            #proba20 = proba20[0][0] * stockdfAccuracy[j][1]\n",
    "            #proba50 = proba50[0][0] * stockdfAccuracy[j][2]\n",
    "            #proba100 = proba100[0][0] * stockdfAccuracy[j][3]\n",
    "            #probabilities.append(proba5 * proba20 * proba50 * proba100)\n",
    "            probabilities.append([proba5[0][0], proba50[0][0]])\n",
    "    print(probabilities)"
   ]
  },
  {
   "cell_type": "code",
   "execution_count": 361,
   "metadata": {
    "collapsed": false
   },
   "outputs": [
    {
     "ename": "NameError",
     "evalue": "name 'request' is not defined",
     "output_type": "error",
     "traceback": [
      "\u001b[1;31m---------------------------------------------------------------------------\u001b[0m",
      "\u001b[1;31mNameError\u001b[0m                                 Traceback (most recent call last)",
      "\u001b[1;32m<ipython-input-361-bc04e1b35a45>\u001b[0m in \u001b[0;36m<module>\u001b[1;34m()\u001b[0m\n\u001b[0;32m      1\u001b[0m \u001b[1;31m# sell stock\u001b[0m\u001b[1;33m\u001b[0m\u001b[1;33m\u001b[0m\u001b[0m\n\u001b[1;32m----> 2\u001b[1;33m \u001b[0mstockid\u001b[0m \u001b[1;33m=\u001b[0m \u001b[0mint\u001b[0m\u001b[1;33m(\u001b[0m\u001b[0mrequest\u001b[0m\u001b[1;33m.\u001b[0m\u001b[0mPOST\u001b[0m\u001b[1;33m.\u001b[0m\u001b[0mget\u001b[0m\u001b[1;33m(\u001b[0m\u001b[1;34m'stock'\u001b[0m\u001b[1;33m)\u001b[0m\u001b[1;33m)\u001b[0m \u001b[1;31m# returns stock ID\u001b[0m\u001b[1;33m\u001b[0m\u001b[0m\n\u001b[0m\u001b[0;32m      3\u001b[0m \u001b[0mdepotname\u001b[0m \u001b[1;33m=\u001b[0m  \u001b[0mrequest\u001b[0m\u001b[1;33m.\u001b[0m\u001b[0msession\u001b[0m\u001b[1;33m[\u001b[0m\u001b[1;34m'depotname'\u001b[0m\u001b[1;33m]\u001b[0m\u001b[1;33m\u001b[0m\u001b[0m\n\u001b[0;32m      4\u001b[0m \u001b[0mdepot\u001b[0m \u001b[1;33m=\u001b[0m \u001b[0mDepot\u001b[0m\u001b[1;33m.\u001b[0m\u001b[0mobjects\u001b[0m\u001b[1;33m.\u001b[0m\u001b[0mget\u001b[0m\u001b[1;33m(\u001b[0m\u001b[0mdepotname\u001b[0m \u001b[1;33m=\u001b[0m \u001b[0mdepotname\u001b[0m\u001b[1;33m)\u001b[0m\u001b[1;33m\u001b[0m\u001b[0m\n\u001b[0;32m      5\u001b[0m \u001b[0mamount\u001b[0m \u001b[1;33m=\u001b[0m \u001b[0mint\u001b[0m\u001b[1;33m(\u001b[0m\u001b[0mrequest\u001b[0m\u001b[1;33m.\u001b[0m\u001b[0mPOST\u001b[0m\u001b[1;33m.\u001b[0m\u001b[0mget\u001b[0m\u001b[1;33m(\u001b[0m\u001b[1;34m'amount'\u001b[0m\u001b[1;33m)\u001b[0m\u001b[1;33m)\u001b[0m\u001b[1;33m\u001b[0m\u001b[0m\n",
      "\u001b[1;31mNameError\u001b[0m: name 'request' is not defined"
     ]
    }
   ],
   "source": [
    "# sell stock\n",
    "stockid = int(request.POST.get('stock')) # returns stock ID\n",
    "depotname =  request.session['depotname']\n",
    "depot = Depot.objects.get(depotname = depotname)\n",
    "amount = int(request.POST.get('amount'))\n",
    "fee = float(request.POST.get('fee'))\n",
    "datatype = 'close'\n",
    "stockDepot.sellStock(depot, stockid, amount, datatype, fee)"
   ]
  },
  {
   "cell_type": "code",
   "execution_count": null,
   "metadata": {
    "collapsed": true
   },
   "outputs": [],
   "source": [
    "# buy stock\n",
    "depotname =  request.session['depotname']\n",
    "depot = Depot.objects.get(depotname = depotname)\n",
    "stockid= request.POST.get('select_stock')\n",
    "amount = int(request.POST.get('amount'))\n",
    "datatype = 'close'\n",
    "fee = float(request.POST.get('fees'))\n",
    "stockDepot.buyStock(depot, stockid, amount, datatype, fee)"
   ]
  }
 ],
 "metadata": {
  "kernelspec": {
   "display_name": "Python 3",
   "language": "python",
   "name": "python3"
  },
  "language_info": {
   "codemirror_mode": {
    "name": "ipython",
    "version": 3
   },
   "file_extension": ".py",
   "mimetype": "text/x-python",
   "name": "python",
   "nbconvert_exporter": "python",
   "pygments_lexer": "ipython3",
   "version": "3.5.1+"
  }
 },
 "nbformat": 4,
 "nbformat_minor": 0
}
